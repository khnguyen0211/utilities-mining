{
 "cells": [
  {
   "cell_type": "code",
   "execution_count": 62,
   "metadata": {},
   "outputs": [],
   "source": [
    "class Item:\n",
    "    def __init__(self, item: str, utility: int):\n",
    "        self.item = item\n",
    "        self.utility = utility\n",
    "\n",
    "    def __repr__(self):\n",
    "        return f\"{self.item}\"\n",
    "\n",
    "class Transaction:\n",
    "    def __init__(self, id: int, items_quantities: dict):\n",
    "        if any(q <= 0 for q in items_quantities.values()):\n",
    "            raise ValueError(f\"Quantities in trans{id} must be positive integers.\")\n",
    "        self.id = id\n",
    "        self.items_quantities = items_quantities\n",
    "\n",
    "    def __repr__(self):\n",
    "        return (f\"(tid = {self.id}, frequencies = {self.items_quantities})\")\n",
    "\n",
    "\n",
    "class Utilities:\n",
    "    def __init__(self, tid: int, iutil: int, rutil: int):\n",
    "        self.tid = tid\n",
    "        self.iutil = iutil\n",
    "        self.rutil = rutil\n",
    "\n",
    "    def __repr__(self):\n",
    "        return f\"Utilities(tid={self.tid}, iutil={self.iutil}, rutil={self.rutil})\"\n",
    "\n",
    "\n",
    "class UtilityList:\n",
    "    def __init__(self, items: set[Item], utility_list: list[Utilities]):\n",
    "        self.items = items\n",
    "        self.utility_list = utility_list\n",
    "\n",
    "    def __repr__(self):\n",
    "        return f\"UtilityList(items={self.items}, utility_list={self.utility_list})\""
   ]
  },
  {
   "cell_type": "code",
   "execution_count": 63,
   "metadata": {},
   "outputs": [],
   "source": [
    "def calculate_positive_utility_of_transaction(trans: Transaction):\n",
    "    pu = 0\n",
    "    items: set[Item] = trans.items_quantities.keys()\n",
    "    for item in items:\n",
    "        if item.utility > 0:\n",
    "            pu += trans.items_quantities.get(item) * item.utility\n",
    "    return pu"
   ]
  },
  {
   "cell_type": "code",
   "execution_count": 64,
   "metadata": {},
   "outputs": [],
   "source": [
    "def calculate_transaction_weight_utility(items: set[Item], database: list[Transaction]):\n",
    "    twu = 0\n",
    "    for trans in database:\n",
    "        trans_items = trans.items_quantities.keys()\n",
    "        if(items.issubset(trans_items)):\n",
    "            twu += calculate_positive_utility_of_transaction(trans)\n",
    "    return twu"
   ]
  },
  {
   "cell_type": "code",
   "execution_count": 65,
   "metadata": {},
   "outputs": [],
   "source": [
    "a = Item(\"A\", 5)\n",
    "b = Item(\"B\", 2)\n",
    "c = Item(\"C\", 1)\n",
    "d = Item(\"D\", 2)\n",
    "e = Item(\"E\", 3)\n",
    "\n",
    "trans1 = Transaction(1, dict(zip([a, c], [1, 1])))\n",
    "trans2 = Transaction(2, dict(zip([e], [1])))\n",
    "trans3 = Transaction(3, dict(zip([a, b, c, d, e], [1, 5, 1, 3, 1])))\n",
    "trans4 = Transaction(4, dict(zip([b, c, d, e], [4, 3, 3, 1])))\n",
    "trans5 = Transaction(5, dict(zip([a, c, d], [1, 1, 1])))\n",
    "trans6 = Transaction(6, dict(zip([a, c, e], [2, 6, 2])))\n",
    "trans7 = Transaction(7, dict(zip([b, c, e], [2, 2, 1])))\n",
    "\n",
    "items = [a, b, c, d, e]\n",
    "database = [trans1, trans2, trans3, trans4, trans5, trans6, trans7]"
   ]
  },
  {
   "cell_type": "code",
   "execution_count": 66,
   "metadata": {},
   "outputs": [],
   "source": [
    "def find_all_transactions_contained_item_set(\n",
    "    item_set: set[Item], database: list[Transaction]\n",
    "):\n",
    "    transactionsList: list[Transaction] = []\n",
    "    for trans in database:\n",
    "        if item_set.issubset(trans.items_quantities.keys()):\n",
    "            transactionsList.append(trans)\n",
    "    return transactionsList\n",
    "\n",
    "def find_max_min_avg_periodic_of_item_set(\n",
    "    item_set: set[Item], database: list[Transaction]\n",
    "):\n",
    "    contained_transactions = find_all_transactions_contained_item_set(\n",
    "        item_set, database\n",
    "    )\n",
    "    trans_ids: list[int] = [trans.id for trans in contained_transactions]\n",
    "    m = len(contained_transactions)\n",
    "    ps: list[int] = []\n",
    "    for i in range(0, m + 1):\n",
    "        if i == 0:\n",
    "            ps.append(trans_ids[0])\n",
    "        elif i == m:\n",
    "            ps.append(len(database) - trans_ids[m - 1])\n",
    "        else:\n",
    "            ps.append(trans_ids[i] - trans_ids[i - 1])\n",
    "  \n",
    "    print(ps)\n",
    "    max_per, min_per = ps[0], ps[0]\n",
    "    avg_per = len(database) / len(ps)\n",
    "    for i in ps:\n",
    "        if i > max_per:\n",
    "            max_per = i\n",
    "        if i < min_per:\n",
    "            min_per = i\n",
    "    return max_per, min_per, avg_per"
   ]
  },
  {
   "cell_type": "code",
   "execution_count": 67,
   "metadata": {},
   "outputs": [
    {
     "name": "stdout",
     "output_type": "stream",
     "text": [
      "25\n"
     ]
    }
   ],
   "source": [
    "print(calculate_transaction_weight_utility({a, b}, database))"
   ]
  },
  {
   "cell_type": "code",
   "execution_count": 68,
   "metadata": {},
   "outputs": [],
   "source": [
    "def check_order_item_and_set(ik: Item, X: set[Item]) -> bool:\n",
    "    twu = calculate_transaction_weight_utility()\n",
    "    for item in X:\n",
    "        if ik.item <= item.item:  \n",
    "            return False\n",
    "    return True\n",
    "\n",
    "def calculate_remaining_utility_of_item_set_in_transaction(\n",
    "    items: set[Item], trans: Transaction\n",
    "):\n",
    "    ru = 0\n",
    "    trans_items: set[Item] = set(trans.items_quantities.keys())\n",
    "    for item in trans_items:\n",
    "        if check_order_item_and_set(item, items) == True:\n",
    "            ru += item.utility * trans.items_quantities.get(item)\n",
    "    return ru"
   ]
  },
  {
   "cell_type": "code",
   "execution_count": 69,
   "metadata": {},
   "outputs": [],
   "source": [
    "def calculate_utility_of_item_set_in_trans(\n",
    "    items: set[Item], trans: Transaction\n",
    "):\n",
    "    pu = 0\n",
    "    for item in items:\n",
    "        quantity = trans.items_quantities.get(item)\n",
    "        if quantity != None:\n",
    "            pu += item.utility * quantity\n",
    "    return pu"
   ]
  },
  {
   "cell_type": "code",
   "execution_count": 70,
   "metadata": {},
   "outputs": [],
   "source": [
    "def create_utility_utility_list(item_set: set[Item], database: list[Transaction]): \n",
    "    utils_list: list[Utilities] = []\n",
    "    for trans in database:\n",
    "        if(item_set.issubset(trans.items_quantities.keys())):\n",
    "            iutil = calculate_utility_of_item_set_in_trans(item_set, trans)\n",
    "            rutil = calculate_remaining_utility_of_item_set_in_transaction(item_set, trans)\n",
    "            utils = Utilities(trans.id, iutil, rutil)\n",
    "            utils_list.append(utils)\n",
    "\n",
    "    return UtilityList(item_set, utils_list)"
   ]
  },
  {
   "cell_type": "code",
   "execution_count": 71,
   "metadata": {},
   "outputs": [
    {
     "data": {
      "text/plain": [
       "UtilityList(items={B, E}, utility_list=[Utilities(tid=3, iutil=13, rutil=0), Utilities(tid=4, iutil=11, rutil=0), Utilities(tid=7, iutil=7, rutil=0)])"
      ]
     },
     "execution_count": 71,
     "metadata": {},
     "output_type": "execute_result"
    }
   ],
   "source": [
    "test = {b, e}\n",
    "create_utility_utility_list(test, database)"
   ]
  },
  {
   "cell_type": "code",
   "execution_count": 72,
   "metadata": {},
   "outputs": [],
   "source": [
    "def find_max_min_avg_periodic_of_item_set(\n",
    "    item_set: set[Item], database: list[Transaction]\n",
    "):\n",
    "    contained_transactions = find_all_transactions_contained_item_set(\n",
    "        item_set, database\n",
    "    )\n",
    "    trans_ids: list[int] = [trans.id for trans in contained_transactions]\n",
    "    m = len(contained_transactions)\n",
    "    ps: list[int] = []\n",
    "    for i in range(0, m + 1):\n",
    "        if i == 0:\n",
    "            ps.append(trans_ids[0])\n",
    "        elif i == m:\n",
    "            ps.append(len(database) - trans_ids[m - 1])\n",
    "        else:\n",
    "            ps.append(trans_ids[i] - trans_ids[i - 1])\n",
    "    max_per, min_per = ps[0], ps[0]\n",
    "    avg_per = len(database) / len(ps)\n",
    "    for i in ps:\n",
    "        if i > max_per:\n",
    "            max_per = i\n",
    "        if i < min_per:\n",
    "            min_per = i\n",
    "    return max_per, min_per, avg_per"
   ]
  },
  {
   "cell_type": "code",
   "execution_count": null,
   "metadata": {},
   "outputs": [],
   "source": []
  }
 ],
 "metadata": {
  "kernelspec": {
   "display_name": "utilities",
   "language": "python",
   "name": "python3"
  },
  "language_info": {
   "codemirror_mode": {
    "name": "ipython",
    "version": 3
   },
   "file_extension": ".py",
   "mimetype": "text/x-python",
   "name": "python",
   "nbconvert_exporter": "python",
   "pygments_lexer": "ipython3",
   "version": "3.12.7"
  }
 },
 "nbformat": 4,
 "nbformat_minor": 2
}
