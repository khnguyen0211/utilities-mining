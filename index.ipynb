{
 "cells": [
  {
   "cell_type": "code",
   "execution_count": 350,
   "metadata": {},
   "outputs": [],
   "source": [
    "class Item:\n",
    "    def __init__(self, item: str, utility: int):\n",
    "        self.item = item\n",
    "        self.utility = utility\n",
    "        self._twu = 0\n",
    "\n",
    "    @property\n",
    "    def twu(self) -> int:\n",
    "        return self._twu\n",
    "\n",
    "    @twu.setter\n",
    "    def twu(self, value: int) -> None:\n",
    "        if value < 0:\n",
    "            raise ValueError(\"TWU value cannot be negative!\")\n",
    "        self._twu = value\n",
    "\n",
    "    def __repr__(self):\n",
    "        # return f\"({self.item},{self.twu})\"\n",
    "        return f\"{self.item}\""
   ]
  },
  {
   "cell_type": "code",
   "execution_count": 351,
   "metadata": {},
   "outputs": [],
   "source": [
    "class Transaction:\n",
    "    def __init__(self, id: int, items_quantities: dict):\n",
    "        if any(q <= 0 for q in items_quantities.values()):\n",
    "            raise ValueError(f\"Quantities in trans{id} must be positive integers.\")\n",
    "        self.id = id\n",
    "        self.items_quantities = items_quantities\n",
    "\n",
    "    def __repr__(self):\n",
    "        return (f\"(tid = {self.id}, frequencies = {self.items_quantities})\")"
   ]
  },
  {
   "cell_type": "markdown",
   "metadata": {},
   "source": [
    "## Table 1  \n",
    "**Database**\n",
    "\n",
    "| Tid  | Item        | Quantity  |\n",
    "|------|-------------|-----------|\n",
    "| T₁   | a b c d     | 5 2 1 2   |\n",
    "| T₂   | a c d g     | 1 1 1 3   |\n",
    "| T₃   | a c f       | 1 1 1     |\n",
    "| T₄   | a f g       | 1 4 2     |\n",
    "| T₅   | a g         | 1 2       |\n",
    "| T₆   | b c d e     | 3 2 3 1   |\n",
    "| T₇   | c e         | 6 4       |\n",
    "| T₈   | e f         | 1 3       |\n",
    "\n",
    "---\n",
    "## Table 2  \n",
    "**Unit Utility**\n",
    "\n",
    "| Item   | a | b | c  | d  | e  | f  | g  |\n",
    "|--------|---|---|----|----|----|----|----|\n",
    "| Utility| 3 | 6 | -3 | 12 | -5 | -2 | -1 |\n"
   ]
  },
  {
   "cell_type": "code",
   "execution_count": 352,
   "metadata": {},
   "outputs": [],
   "source": [
    "a = Item(\"A\", 3)\n",
    "b = Item(\"B\", 6)\n",
    "c = Item(\"C\", -3)\n",
    "d = Item(\"D\", 12)\n",
    "e = Item(\"E\", -5)\n",
    "f = Item(\"F\", -2)\n",
    "g = Item(\"G\", -1)\n",
    "\n",
    "trans1 = Transaction(1, dict(zip([a, b, c, d], [5, 2, 1, 2])))\n",
    "trans2 = Transaction(2, dict(zip([a, c, d, g], [1, 1, 1, 3])))\n",
    "trans3 = Transaction(3, dict(zip([a, c, f], [1, 1, 1])))\n",
    "trans4 = Transaction(4, dict(zip([a, f, g], [1, 4, 2])))\n",
    "trans5 = Transaction(5, dict(zip([a, g], [1, 2])))\n",
    "trans6 = Transaction(6, dict(zip([b, c, d, e], [3, 2, 3, 1])))\n",
    "trans7 = Transaction(7, dict(zip([c, e], [6, 4])))\n",
    "trans8 = Transaction(8, dict(zip([e, f], [1, 3])))\n",
    "\n",
    "items = [a, b, c, d, e, f, g]\n",
    "database = [trans1, trans2, trans3, trans4, trans5, trans6, trans7, trans8]\n"
   ]
  },
  {
   "cell_type": "markdown",
   "metadata": {},
   "source": [
    "Definition 1"
   ]
  },
  {
   "cell_type": "code",
   "execution_count": 353,
   "metadata": {},
   "outputs": [],
   "source": [
    "def find_all_transactions_contained_item_set(item_set: set[Item], database: list[Transaction]):\n",
    "    transactionsList: list[Transaction] = []\n",
    "    for trans in database:\n",
    "        if item_set.issubset(trans.items_quantities.keys()):\n",
    "            transactionsList.append(trans)\n",
    "    return transactionsList"
   ]
  },
  {
   "cell_type": "code",
   "execution_count": 354,
   "metadata": {},
   "outputs": [],
   "source": [
    "def find_max_min_avg_periodic_of_item_set(item_set: set[Item], database: list[Transaction]):\n",
    "    contained_transactions = find_all_transactions_contained_item_set(item_set, database)\n",
    "    trans_ids: list[int] = [trans.id for trans in contained_transactions]\n",
    "    m = len(contained_transactions)\n",
    "    ps: list[int] = []\n",
    "    for i in range(0, m + 1):\n",
    "        if(i == 0):\n",
    "            ps.append(trans_ids[0]);\n",
    "        elif(i == m):\n",
    "            ps.append(len(database) - trans_ids[m - 1])\n",
    "        else:\n",
    "            ps.append(trans_ids[i] - trans_ids[i - 1])\n",
    "    max_per, min_per = ps[0], ps[0]\n",
    "    avg_per = len(database) / len(ps)\n",
    "    for i in ps:\n",
    "        if(i > max_per):\n",
    "            max_per = i\n",
    "        if(i < min_per):\n",
    "            min_per = i\n",
    "    return max_per, min_per, avg_per"
   ]
  },
  {
   "cell_type": "markdown",
   "metadata": {},
   "source": [
    "<center>\n",
    "Definition 4: The positive utility of X in Transaction T as:\n",
    "<br></br>\n",
    "PU(X,T) = Σ<sub>i<sub>k</sub>∈X,P(i<sub>k</sub>)>0</sub>(P(i<sub>k</sub>) * q<sub>k</sub>)\n",
    "</center>"
   ]
  },
  {
   "cell_type": "code",
   "execution_count": 355,
   "metadata": {},
   "outputs": [],
   "source": [
    "def calculate_positive_utility_of_item_set_in_trans(items: set[Item], trans: Transaction):\n",
    "    pu = 0\n",
    "    if(items.issubset(trans.items_quantities.keys())):\n",
    "        for item in items:\n",
    "            utility = item.utility \n",
    "            if(utility > 0):\n",
    "                quantity = trans.items_quantities.get(item);\n",
    "                if(quantity != None):\n",
    "                    pu += item.utility * quantity\n",
    "    return pu;"
   ]
  },
  {
   "cell_type": "markdown",
   "metadata": {},
   "source": [
    "<center>\n",
    "Definition 4: The positive utility of X in Database D are:\n",
    "<br></br>\n",
    "PU(X) = Σ<sub>(X⊆T<sub>j</sub>,T<sub>j</sub>∈D)</sub>PU(X,T<sub>j</sub>)\n",
    "</center>"
   ]
  },
  {
   "cell_type": "code",
   "execution_count": 356,
   "metadata": {},
   "outputs": [],
   "source": [
    "def calculate_positive_utility_of_item_set_in_database(items: set[Item], database: list[Transaction]):\n",
    "    pu = 0\n",
    "    for trans in database:\n",
    "        pu += calculate_positive_utility_of_item_set_in_trans(items, trans)\n",
    "    return pu"
   ]
  },
  {
   "cell_type": "markdown",
   "metadata": {},
   "source": [
    "<center> Definition 4: The negative utility of X in Transaction T as:\n",
    "<br></br>\n",
    "NU(X,T) = Σ<sub>i<sub>k</sub>∈X,P(i<sub>k</sub>)<0</sub>(P(i<sub>k</sub>) * q<sub>k</sub>)\n",
    "</center>\n",
    "\n"
   ]
  },
  {
   "cell_type": "code",
   "execution_count": 357,
   "metadata": {},
   "outputs": [],
   "source": [
    "def calculate_negative_utility_of_item_set_in_trans(items: set[Item], trans: Transaction):\n",
    "    nu = 0\n",
    "    if(items.issubset(trans.items_quantities.keys())):\n",
    "        for item in items:\n",
    "            utility = item.utility \n",
    "            if(utility < 0):\n",
    "                quantity = trans.items_quantities.get(item);\n",
    "                if(quantity != None):\n",
    "                    nu += item.utility * quantity\n",
    "    return nu;"
   ]
  },
  {
   "cell_type": "markdown",
   "metadata": {},
   "source": [
    "<center>\n",
    "Definition 4: The negative utility of X in Database D are:\n",
    "<br></br>\n",
    "NU(X) = Σ<sub>(X⊆T<sub>j</sub>,T<sub>j</sub>∈D)</sub>NU(*X,T<sub>j</sub>)\n",
    "</center>"
   ]
  },
  {
   "cell_type": "code",
   "execution_count": 358,
   "metadata": {},
   "outputs": [],
   "source": [
    "def calculate_negative_utility_of_item_set_in_database(items: set[Item], database: list[Transaction]):\n",
    "    nu = 0\n",
    "    for trans in database:\n",
    "        nu += calculate_negative_utility_of_item_set_in_trans(items, trans)\n",
    "    return nu"
   ]
  },
  {
   "cell_type": "code",
   "execution_count": 359,
   "metadata": {},
   "outputs": [],
   "source": [
    "def calculate_positive_utility_of_transaction(trans: Transaction):\n",
    "    pu = 0;\n",
    "    items : set[Item] = trans.items_quantities.keys()\n",
    "    for item in items:\n",
    "        if(item.utility > 0):\n",
    "            pu += trans.items_quantities.get(item) * item.utility\n",
    "    return pu;"
   ]
  },
  {
   "cell_type": "markdown",
   "metadata": {},
   "source": [
    "<center>\n",
    "Definition 6 (Transaction Weighted Utility TWU in N-database):\n",
    "<br></br>\n",
    "TWU(X) = Σ<sub>X⊆T<sub>j</sub>,T<sub>j</sub>∈D</sub>PU(T<sub>j</sub>)\n",
    "</center>"
   ]
  },
  {
   "cell_type": "code",
   "execution_count": 360,
   "metadata": {},
   "outputs": [],
   "source": [
    "def calculate_transaction_weight_utility(items: set[Item], database: list[Transaction]):\n",
    "    twu = 0\n",
    "    for trans in database:\n",
    "        trans_items = trans.items_quantities.keys()\n",
    "        if(items.issubset(trans_items)):\n",
    "            twu += calculate_positive_utility_of_transaction(trans)\n",
    "    return twu"
   ]
  },
  {
   "cell_type": "code",
   "execution_count": 361,
   "metadata": {},
   "outputs": [],
   "source": [
    "#a > b\n",
    "def check_order_of_two_items(a: Item, b: Item, database: list[Transaction]):\n",
    "    if(a == b):\n",
    "        return False\n",
    "    if(a.utility > 0 and b.utility < 0):\n",
    "        return True\n",
    "    if(a.utility * b.utility > 0):\n",
    "        return calculate_transaction_weight_utility({a}, database) > calculate_transaction_weight_utility({b}, database)\n",
    "    return False"
   ]
  },
  {
   "cell_type": "code",
   "execution_count": 362,
   "metadata": {},
   "outputs": [],
   "source": [
    "def check_order_item_and_set(ik: Item, X: set[Item], database: list[Transaction]) -> bool:\n",
    "    for i in X:\n",
    "        if(check_order_of_two_items(ik, i, database) == False):\n",
    "            return False\n",
    "    return True"
   ]
  },
  {
   "cell_type": "markdown",
   "metadata": {},
   "source": [
    "<center>\n",
    "Definition 8: The remaining utility of 𝑋 in T<sub>j</sub>\n",
    "<br></br>\n",
    "RU(X) = Σ<sub>X⊆T<sub>j</sub>,T<sub>j</sub>∈D</sub>RU(X, T<sub>j</sub>)</center>"
   ]
  },
  {
   "cell_type": "code",
   "execution_count": 363,
   "metadata": {},
   "outputs": [],
   "source": [
    "def calculate_remaining_utility_of_item_set_in_transaction(items: set[Item], trans: Transaction, database: list[Transaction]):\n",
    "    ru = 0\n",
    "    trans_items: set[Item] = trans.items_quantities.keys()\n",
    "    if items.issubset(trans_items):\n",
    "        for item in trans_items:\n",
    "            # print(\"check item: \" + item.item)\n",
    "            if(item.utility > 0):\n",
    "                if(check_order_item_and_set(item, items, database)):\n",
    "                    # print(\"check_order_item_and_set TRUE\" )\n",
    "                    # print(\n",
    "                    #     \"twu of \"\n",
    "                    #     + item.item + \" = \"\n",
    "                    #     + str(calculate_transaction_weight_utility({item}, database))\n",
    "                    # )\n",
    "                    ru += item.utility * trans.items_quantities.get(item)\n",
    "    return ru"
   ]
  },
  {
   "cell_type": "code",
   "execution_count": 364,
   "metadata": {},
   "outputs": [],
   "source": [
    "def calculate_remaining_utility_of_item_set_in_database(items: set[Item], database: list[Transaction]):\n",
    "    ru = 0\n",
    "    for trans in database:\n",
    "        ru += calculate_remaining_utility_of_item_set_in_transaction(items, trans, database)\n",
    "        # print(\"transID: \" + str(trans.id) + \", ru: \" + str(calculate_remaining_utility_of_item_set_in_transaction(items, trans, database)))\n",
    "    return ru"
   ]
  },
  {
   "cell_type": "code",
   "execution_count": 365,
   "metadata": {},
   "outputs": [],
   "source": [
    "def calculate_utility_of_item_set_in_database(\n",
    "    items: set[Item], database: list[Transaction]\n",
    "):\n",
    "    u = 0\n",
    "    for trans in database:\n",
    "        if(items.issubset(trans.items_quantities.keys())):\n",
    "            for item in items:\n",
    "                u += item.utility * trans.items_quantities.get(item)\n",
    "    return u"
   ]
  },
  {
   "cell_type": "code",
   "execution_count": 366,
   "metadata": {},
   "outputs": [],
   "source": [
    "from itertools import chain\n",
    "\n",
    "def gather_item_set_from_database(database: list[Transaction]) -> set[Item]:\n",
    "    return set(chain.from_iterable(trans.items_quantities.keys() for trans in database))"
   ]
  },
  {
   "cell_type": "code",
   "execution_count": 367,
   "metadata": {},
   "outputs": [],
   "source": [
    "def insert_in_order(sorted_items: list[tuple[Item, int]], new_item: tuple[Item, int]):\n",
    "    item, twu = new_item\n",
    "    index = 0\n",
    "    while index < len(sorted_items) and sorted_items[index][1] < twu:\n",
    "        index += 1\n",
    "    sorted_items.insert(index, new_item)"
   ]
  },
  {
   "cell_type": "code",
   "execution_count": 368,
   "metadata": {},
   "outputs": [],
   "source": [
    "def reorder_database(\n",
    "    transactions: list[Transaction], sorted_items: list[tuple[Item, int]]\n",
    "):\n",
    "    item_order = {item: index for index, (item, _) in enumerate(sorted_items)}\n",
    "    def sort_key(item):\n",
    "        return item_order.get(\n",
    "            item, float(\"inf\")\n",
    "        ) \n",
    "    for trans in transactions:\n",
    "        sorted_items_in_trans = dict(\n",
    "            sorted(trans.items_quantities.items(), key=lambda x: sort_key(x[0]))\n",
    "        )\n",
    "        trans.items_quantities = sorted_items_in_trans \n",
    "    return transactions"
   ]
  },
  {
   "cell_type": "code",
   "execution_count": 369,
   "metadata": {},
   "outputs": [],
   "source": [
    "def reorder_item_list(\n",
    "    all_distinct_items: set[Item], sorted_items: list[tuple[Item, int]]\n",
    ") -> list[Item]:\n",
    "    item_position = {item: idx for idx, (item, _) in enumerate(sorted_items)}\n",
    "    return sorted(all_distinct_items, key=lambda x: item_position[x])"
   ]
  },
  {
   "cell_type": "code",
   "execution_count": 370,
   "metadata": {},
   "outputs": [],
   "source": [
    "def create_eucs_dict(arr: list[Item], database: list[Transaction]) -> dict[frozenset[Item], int]:\n",
    "    n = len(arr)\n",
    "    eucs_dict = {}\n",
    "    for i in range(n):\n",
    "        for j in range(n):\n",
    "            if i < j:\n",
    "                item_pair = frozenset({arr[i], arr[j]})\n",
    "                twu_value = calculate_transaction_weight_utility(item_pair, database)\n",
    "                eucs_dict[item_pair] = twu_value\n",
    "    return eucs_dict"
   ]
  },
  {
   "cell_type": "code",
   "execution_count": 371,
   "metadata": {},
   "outputs": [],
   "source": [
    "def searching_procedure(\n",
    "    p,\n",
    "    pList,\n",
    "    lists: list[list[Item]],\n",
    "    minUtil,\n",
    "    minPer,\n",
    "    maxPer,\n",
    "    minAvg,\n",
    "    maxAvg,\n",
    "    database: list[Transaction],\n",
    "    eucs_dict : dict[frozenset[Item], int],\n",
    "    output: list[set[Item]],\n",
    "):\n",
    "    print(lists)\n",
    "    for i in range(0, len(lists) - 1):\n",
    "        X: list[Item] = lists[i]\n",
    "        utility = calculate_utility_of_item_set_in_database(set(X), database)\n",
    "        remaining_utility = calculate_remaining_utility_of_item_set_in_database(\n",
    "            set(X), database\n",
    "        )\n",
    "        min_per, max_per, avg_per = find_max_min_avg_periodic_of_item_set(\n",
    "            set(X), database\n",
    "        )\n",
    "        if (\n",
    "            utility >= minUtil\n",
    "            and min_per >= minPer\n",
    "            and max_per <= maxPer\n",
    "            and avg_per >= minAvg\n",
    "            and avg_per <= maxAvg\n",
    "        ):\n",
    "            output.append(X)\n",
    "        if remaining_utility + utility >= minUtil:\n",
    "            new_lists = []\n",
    "            new_period = []\n",
    "            for j in range(i + 1, len(lists)):\n",
    "                Y = lists[j]\n",
    "                key = frozenset({X[-1], Y[-1]})\n",
    "                twu_value = eucs_dict.get(key)\n",
    "                if(twu_value > minUtil):\n",
    "                    print(X[-1].item + \",\" + Y[-1].item + \" passes EUCS condition\")"
   ]
  },
  {
   "cell_type": "code",
   "execution_count": 372,
   "metadata": {},
   "outputs": [
    {
     "name": "stdout",
     "output_type": "stream",
     "text": [
      "[A, B, D, C]\n",
      "[[A], [B], [D], [C]]\n",
      "A,B passes EUCS condition\n",
      "A,D passes EUCS condition\n",
      "A,C passes EUCS condition\n",
      "B,D passes EUCS condition\n",
      "B,C passes EUCS condition\n",
      "D,C passes EUCS condition\n"
     ]
    },
    {
     "data": {
      "text/plain": [
       "0"
      ]
     },
     "execution_count": 372,
     "metadata": {},
     "output_type": "execute_result"
    }
   ],
   "source": [
    "def preparation_procedure(\n",
    "    database: list[Transaction], \n",
    "    all_distinct_items: list[Item],\n",
    "    minUtility, \n",
    "    minPer, \n",
    "    maxPer, \n",
    "    minAvg, \n",
    "    maxAvg\n",
    "):\n",
    "    removed_list: list[Item] = list()\n",
    "    for item in all_distinct_items:\n",
    "        item_max_per, item_min_per, item_avg_per = (\n",
    "            find_max_min_avg_periodic_of_item_set({item}, database)\n",
    "        )\n",
    "        twu = calculate_transaction_weight_utility({item}, database)\n",
    "        if (\n",
    "            twu < minUtility\n",
    "            or item_min_per < minPer\n",
    "            or item_max_per > maxPer\n",
    "            or item_avg_per < minAvg\n",
    "            or item_avg_per > maxAvg\n",
    "        ):\n",
    "            removed_list.append(item)\n",
    "        else:\n",
    "            item.twu = twu\n",
    "    all_distinct_items = [\n",
    "        item for item in all_distinct_items if item not in removed_list\n",
    "    ]\n",
    "    all_distinct_items.sort(key=lambda x: x.twu)\n",
    "    print(all_distinct_items)\n",
    "    # print(item.item + \", minPer: \" + str(item_min_per) + \", maxPer: \" +  str(item_max_per) + \", avgPer: \" + str(item_avg_per))\n",
    "    for trans in database:\n",
    "        for item in removed_list:\n",
    "            trans.items_quantities.pop(item, None)\n",
    "        if len(trans.items_quantities.keys()) == 0:\n",
    "            database.remove(trans)\n",
    "\n",
    "    # reorder_database(database, sorted_items)\n",
    "    lists: list[list[Item]] = [[item] for item in all_distinct_items] #list[set[Item]]\n",
    "\n",
    "    eucs_dict : dict[frozenset[Item], int] = create_eucs_dict(all_distinct_items, database)\n",
    "    # print(sorted_items_list)\n",
    "    # for trans in database:\n",
    "    #     print(trans)\n",
    "\n",
    "    # for pair, value in create_eucs_list(sorted_list_to_create_eucs, database).items():\n",
    "    #     print(f\"{pair}: {value}\")\n",
    "    searching_procedure([], None, lists, minUtility, minPer, maxPer, minAvg, maxAvg, database, eucs_dict, [])\n",
    "    return 0\n",
    "\n",
    "preparation_procedure(database, items, 30, 1, 5, 1, 3)"
   ]
  }
 ],
 "metadata": {
  "kernelspec": {
   "display_name": "utilities",
   "language": "python",
   "name": "python3"
  },
  "language_info": {
   "codemirror_mode": {
    "name": "ipython",
    "version": 3
   },
   "file_extension": ".py",
   "mimetype": "text/x-python",
   "name": "python",
   "nbconvert_exporter": "python",
   "pygments_lexer": "ipython3",
   "version": "3.12.7"
  }
 },
 "nbformat": 4,
 "nbformat_minor": 2
}
