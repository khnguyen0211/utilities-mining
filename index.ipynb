{
 "cells": [
  {
   "cell_type": "code",
   "execution_count": 528,
   "metadata": {},
   "outputs": [],
   "source": [
    "class Item:\n",
    "    def __init__(self, item: str, utility: int):\n",
    "        self.item = item\n",
    "        self.utility = utility\n",
    "\n",
    "    def __repr__(self):\n",
    "        # return f\"({self.item},{self.utility})\"\n",
    "        return f\"{self.item}\"\n",
    "    \n",
    "    \n",
    "    # Định nghĩa phương thức so sánh __eq__\n",
    "    def __eq__(self, other):\n",
    "        if isinstance(other, Item):\n",
    "            return self.item == other.item  # So sánh dựa trên giá trị 'item'\n",
    "        return False\n",
    "\n",
    "    # Định nghĩa phương thức băm __hash__ để có thể sử dụng trong set hoặc dict\n",
    "    def __hash__(self):\n",
    "        return hash(self.item)  # Băm dựa trên giá trị 'item'"
   ]
  },
  {
   "cell_type": "code",
   "execution_count": 529,
   "metadata": {},
   "outputs": [],
   "source": [
    "class Transaction:\n",
    "    def __init__(self, id: int, items_quantities: dict):\n",
    "        if any(q <= 0 for q in items_quantities.values()):\n",
    "            raise ValueError(f\"Quantities in trans{id} must be positive integers.\")\n",
    "        self.id = id\n",
    "        self.items_quantities = items_quantities\n",
    "\n",
    "    def __repr__(self):\n",
    "        return (f\"(tid = {self.id}, frequencies = {self.items_quantities})\")"
   ]
  },
  {
   "cell_type": "code",
   "execution_count": 530,
   "metadata": {},
   "outputs": [
    {
     "data": {
      "text/plain": [
       "[(tid = 1, frequencies = {A: 5, B: 2, C: 1, D: 2}),\n",
       " (tid = 2, frequencies = {A: 1, C: 1, D: 1, G: 3}),\n",
       " (tid = 3, frequencies = {A: 1, C: 1, F: 1}),\n",
       " (tid = 4, frequencies = {A: 1, F: 4, G: 2}),\n",
       " (tid = 5, frequencies = {A: 1, G: 2}),\n",
       " (tid = 6, frequencies = {B: 3, C: 2, D: 3, E: 1}),\n",
       " (tid = 7, frequencies = {C: 6, E: 4}),\n",
       " (tid = 8, frequencies = {E: 1, F: 3})]"
      ]
     },
     "execution_count": 530,
     "metadata": {},
     "output_type": "execute_result"
    }
   ],
   "source": [
    "a = Item('A', 3)\n",
    "b = Item('B', 6)\n",
    "c = Item('C', -3)\n",
    "d = Item('D', 12)\n",
    "e = Item('E', -5)\n",
    "f = Item('F', -2)\n",
    "g = Item('G', -1)\n",
    "\n",
    "items = [a, b, c, d, e, f, g]\n",
    "\n",
    "trans1 = Transaction(1, dict(zip([a, b, c, d], [5, 2, 1, 2])))\n",
    "trans2 = Transaction(2, dict(zip([a, c, d, g], [1, 1, 1, 3])))\n",
    "trans3 = Transaction(3, dict(zip([a, c, f], [1, 1, 1])))\n",
    "trans4 = Transaction(4, dict(zip([a, f, g], [1, 4, 2])))\n",
    "trans5 = Transaction(5, dict(zip([a, g], [1, 2])))\n",
    "trans6 = Transaction(6, dict(zip([b, c, d, e], [3, 2, 3, 1])))\n",
    "trans7 = Transaction(7, dict(zip([c, e], [6, 4])))\n",
    "trans8 = Transaction(8, dict(zip([e, f], [1, 3])))\n",
    "\n",
    "database = [trans1, trans2, trans3, trans4, trans5, trans6, trans7, trans8]\n",
    "\n",
    "database"
   ]
  },
  {
   "cell_type": "code",
   "execution_count": 531,
   "metadata": {},
   "outputs": [
    {
     "name": "stdout",
     "output_type": "stream",
     "text": [
      "3\n"
     ]
    }
   ],
   "source": [
    "trans1.items_quantities.keys()\n",
    "trans1.items_quantities.values()\n",
    "print(trans6.items_quantities.get(d))"
   ]
  },
  {
   "cell_type": "code",
   "execution_count": 532,
   "metadata": {},
   "outputs": [],
   "source": [
    "def calculate_positive_utility_in_trans(items: set[Item], trans: Transaction):\n",
    "    pu = 0\n",
    "    for item in items:\n",
    "        utility = item.utility \n",
    "        if(utility > 0):\n",
    "            quantity = trans.items_quantities.get(item);\n",
    "            if(quantity != None):\n",
    "                pu += item.utility * quantity\n",
    "    return pu;"
   ]
  },
  {
   "cell_type": "code",
   "execution_count": 533,
   "metadata": {},
   "outputs": [],
   "source": [
    "def calculate_positive_utility_in_database(items: set[Item], database: list[Transaction]):\n",
    "    pu = 0\n",
    "    for trans in database:\n",
    "        if items.issubset(trans.items_quantities.keys()):\n",
    "            pu += calculate_positive_utility_in_trans(items, trans)\n",
    "    return pu"
   ]
  },
  {
   "cell_type": "code",
   "execution_count": 534,
   "metadata": {},
   "outputs": [],
   "source": [
    "def calculate_negative_utility_in_trans(items: set[Item], trans: Transaction):\n",
    "    nu = 0\n",
    "    for item in items:\n",
    "        utility = item.utility \n",
    "        if(utility < 0):\n",
    "            quantity = trans.items_quantities.get(item);\n",
    "            if(quantity != None):\n",
    "                nu += item.utility * quantity\n",
    "    return nu;"
   ]
  },
  {
   "cell_type": "code",
   "execution_count": 535,
   "metadata": {},
   "outputs": [],
   "source": [
    "def calculate_negative_utility_in_database(items: set[Item], database: list[Transaction]):\n",
    "    nu = 0\n",
    "    for trans in database:\n",
    "        if items.issubset(trans.items_quantities.keys()):\n",
    "            nu += calculate_negative_utility_in_trans(items, trans)\n",
    "    return nu"
   ]
  },
  {
   "cell_type": "code",
   "execution_count": 536,
   "metadata": {},
   "outputs": [
    {
     "name": "stdout",
     "output_type": "stream",
     "text": [
      "-9\n"
     ]
    }
   ],
   "source": [
    "x = {a, c}\n",
    "print(calculate_negative_utility_in_database(x, database))"
   ]
  },
  {
   "cell_type": "code",
   "execution_count": 537,
   "metadata": {},
   "outputs": [],
   "source": [
    "def calculate_twu(item):\n",
    "    return;"
   ]
  },
  {
   "cell_type": "code",
   "execution_count": 538,
   "metadata": {},
   "outputs": [],
   "source": [
    "def calculate_max_per(item):\n",
    "    return;"
   ]
  },
  {
   "cell_type": "code",
   "execution_count": 539,
   "metadata": {},
   "outputs": [],
   "source": [
    "def calculate_avg_per(item):\n",
    "    return;"
   ]
  },
  {
   "cell_type": "code",
   "execution_count": 540,
   "metadata": {},
   "outputs": [],
   "source": [
    "def preparation_procedure(database, minUtility, minPer, maxPer, minAvg, maxAvg):\n",
    "    return;"
   ]
  },
  {
   "cell_type": "code",
   "execution_count": 541,
   "metadata": {},
   "outputs": [],
   "source": [
    "list1 = [a, b, c]\n",
    "list2 = [a, b, c, d]\n"
   ]
  }
 ],
 "metadata": {
  "kernelspec": {
   "display_name": "utilities",
   "language": "python",
   "name": "python3"
  },
  "language_info": {
   "codemirror_mode": {
    "name": "ipython",
    "version": 3
   },
   "file_extension": ".py",
   "mimetype": "text/x-python",
   "name": "python",
   "nbconvert_exporter": "python",
   "pygments_lexer": "ipython3",
   "version": "3.12.7"
  }
 },
 "nbformat": 4,
 "nbformat_minor": 2
}
