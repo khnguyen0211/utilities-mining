{
 "cells": [
  {
   "cell_type": "code",
   "execution_count": 295,
   "metadata": {},
   "outputs": [],
   "source": [
    "from collections import namedtuple\n",
    "\n",
    "Utilities = namedtuple('Utilities', ['tid', 'pu', 'nu', 'ru'])\n",
    "\n",
    "class Item:\n",
    "    def __init__(self, item: str, utility: int):\n",
    "        self.item = item\n",
    "        self.utility = utility\n",
    "        self._twu = 0\n",
    "\n",
    "    @property\n",
    "    def twu(self) -> int:\n",
    "        return self._twu\n",
    "    \n",
    "    @twu.setter\n",
    "    def twu(self, value: int) -> None:\n",
    "        if value < 0:\n",
    "            raise ValueError(\"TWU value cannot be negative!\")\n",
    "        self._twu = value\n",
    "\n",
    "    def __repr__(self):\n",
    "        # return f\"({self.item},{self.twu})\"\n",
    "        return f\"{self.item}\"\n",
    "\n",
    "class Transaction:\n",
    "    def __init__(self, id: int, items_quantities: dict):\n",
    "        if any(q <= 0 for q in items_quantities.values()):\n",
    "            raise ValueError(f\"Quantities in trans{id} must be positive integers.\")\n",
    "        self.id = id\n",
    "        self.items_quantities = items_quantities\n",
    "\n",
    "    def __repr__(self):\n",
    "        return f\"(tid = {self.id}, frequencies = {self.items_quantities})\"\n",
    "\n",
    "class PNUList:\n",
    "    def __init__(self, items: set[Item], utility_values: list[Utilities]):\n",
    "        self.items = items\n",
    "        self.utility_values = utility_values\n",
    "\n",
    "    def add_item(self, item):\n",
    "        self.items.add(item)\n",
    "\n",
    "    def __repr__(self):\n",
    "        return f\"PNU-List(items={self.items}, \" f\"utility_values={self.utility_values})\""
   ]
  },
  {
   "cell_type": "markdown",
   "metadata": {},
   "source": [
    "## Table 1  \n",
    "**Database**\n",
    "\n",
    "| Tid  | Item        | Quantity  |\n",
    "|------|-------------|-----------|\n",
    "| T₁   | a b c d     | 5 2 1 2   |\n",
    "| T₂   | a c d g     | 1 1 1 3   |\n",
    "| T₃   | a c f       | 1 1 1     |\n",
    "| T₄   | a f g       | 1 4 2     |\n",
    "| T₅   | a g         | 1 2       |\n",
    "| T₆   | b c d e     | 3 2 3 1   |\n",
    "| T₇   | c e         | 6 4       |\n",
    "| T₈   | e f         | 1 3       |\n",
    "\n",
    "---\n",
    "## Table 2  \n",
    "**Unit Utility**\n",
    "\n",
    "| Item   | a | b | c  | d  | e  | f  | g  |\n",
    "|--------|---|---|----|----|----|----|----|\n",
    "| Utility| 3 | 6 | -3 | 12 | -5 | -2 | -1 |\n"
   ]
  },
  {
   "cell_type": "code",
   "execution_count": 296,
   "metadata": {},
   "outputs": [
    {
     "data": {
      "text/plain": [
       "[(tid = 1, frequencies = {A: 5, B: 2, C: 1, D: 2}),\n",
       " (tid = 2, frequencies = {A: 1, C: 1, D: 1, G: 3}),\n",
       " (tid = 3, frequencies = {A: 1, C: 1, F: 1}),\n",
       " (tid = 4, frequencies = {A: 1, F: 4, G: 2}),\n",
       " (tid = 5, frequencies = {A: 1, G: 2}),\n",
       " (tid = 6, frequencies = {B: 3, C: 2, D: 3, E: 1}),\n",
       " (tid = 7, frequencies = {C: 6, E: 4}),\n",
       " (tid = 8, frequencies = {E: 1, F: 3})]"
      ]
     },
     "execution_count": 296,
     "metadata": {},
     "output_type": "execute_result"
    }
   ],
   "source": [
    "a = Item(\"A\", 3)\n",
    "b = Item(\"B\", 6)\n",
    "c = Item(\"C\", -3)\n",
    "d = Item(\"D\", 12)\n",
    "e = Item(\"E\", -5)\n",
    "f = Item(\"F\", -2)\n",
    "g = Item(\"G\", -1)\n",
    "\n",
    "trans1 = Transaction(1, dict(zip([a, b, c, d], [5, 2, 1, 2])))\n",
    "trans2 = Transaction(2, dict(zip([a, c, d, g], [1, 1, 1, 3])))\n",
    "trans3 = Transaction(3, dict(zip([a, c, f], [1, 1, 1])))\n",
    "trans4 = Transaction(4, dict(zip([a, f, g], [1, 4, 2])))\n",
    "trans5 = Transaction(5, dict(zip([a, g], [1, 2])))\n",
    "trans6 = Transaction(6, dict(zip([b, c, d, e], [3, 2, 3, 1])))\n",
    "trans7 = Transaction(7, dict(zip([c, e], [6, 4])))\n",
    "trans8 = Transaction(8, dict(zip([e, f], [1, 3])))\n",
    "\n",
    "items = [a, b, c, d, e, f, g]\n",
    "database = [trans1, trans2, trans3, trans4, trans5, trans6, trans7, trans8]\n",
    "\n",
    "database"
   ]
  },
  {
   "cell_type": "markdown",
   "metadata": {},
   "source": [
    "Definition 1"
   ]
  },
  {
   "cell_type": "code",
   "execution_count": 297,
   "metadata": {},
   "outputs": [],
   "source": [
    "def find_all_transactions_contained_item_set(item_set: set[Item], database: list[Transaction]):\n",
    "    transactionsList: list[Transaction] = []\n",
    "    for trans in database:\n",
    "        if item_set.issubset(trans.items_quantities.keys()):\n",
    "            transactionsList.append(trans)\n",
    "    return transactionsList"
   ]
  },
  {
   "cell_type": "code",
   "execution_count": 298,
   "metadata": {},
   "outputs": [],
   "source": [
    "def find_max_min_avg_periodic_of_item_set(item_set: set[Item], database: list[Transaction]):\n",
    "    contained_transactions = find_all_transactions_contained_item_set(item_set, database)\n",
    "    trans_ids: list[int] = [trans.id for trans in contained_transactions]\n",
    "    m = len(contained_transactions)\n",
    "    ps: list[int] = []\n",
    "    for i in range(0, m + 1):\n",
    "        if(i == 0):\n",
    "            ps.append(trans_ids[0]);\n",
    "        elif(i == m):\n",
    "            ps.append(len(database) - trans_ids[m - 1])\n",
    "        else:\n",
    "            ps.append(trans_ids[i] - trans_ids[i - 1])\n",
    "    max_per, min_per = ps[0], ps[0]\n",
    "    avg_per = len(database) / len(ps)\n",
    "    for i in ps:\n",
    "        if(i > max_per):\n",
    "            max_per = i\n",
    "        if(i < min_per):\n",
    "            min_per = i\n",
    "    return max_per, min_per, avg_per"
   ]
  },
  {
   "cell_type": "markdown",
   "metadata": {},
   "source": [
    "<center>\n",
    "Definition 4: The positive utility of X in Transaction T as:\n",
    "<br></br>\n",
    "PU(X,T) = Σ<sub>i<sub>k</sub>∈X,P(i<sub>k</sub>)>0</sub>(P(i<sub>k</sub>) * q<sub>k</sub>)\n",
    "</center>"
   ]
  },
  {
   "cell_type": "code",
   "execution_count": 299,
   "metadata": {},
   "outputs": [],
   "source": [
    "def calculate_positive_utility_of_item_set_in_trans(items: set[Item], trans: Transaction):\n",
    "    pu = 0\n",
    "    if(items.issubset(trans.items_quantities.keys())):\n",
    "        for item in items:\n",
    "            utility = item.utility \n",
    "            if(utility > 0):\n",
    "                quantity = trans.items_quantities.get(item);\n",
    "                if(quantity != None):\n",
    "                    pu += item.utility * quantity\n",
    "    return pu;"
   ]
  },
  {
   "cell_type": "markdown",
   "metadata": {},
   "source": [
    "<center>\n",
    "Definition 4: The positive utility of X in Database D are:\n",
    "<br></br>\n",
    "PU(X) = Σ<sub>(X⊆T<sub>j</sub>,T<sub>j</sub>∈D)</sub>PU(X,T<sub>j</sub>)\n",
    "</center>"
   ]
  },
  {
   "cell_type": "code",
   "execution_count": 300,
   "metadata": {},
   "outputs": [],
   "source": [
    "def calculate_positive_utility_of_item_set_in_database(items: set[Item], database: list[Transaction]):\n",
    "    pu = 0\n",
    "    for trans in database:\n",
    "        pu += calculate_positive_utility_of_item_set_in_trans(items, trans)\n",
    "    return pu"
   ]
  },
  {
   "cell_type": "markdown",
   "metadata": {},
   "source": [
    "<center> Definition 4: The negative utility of X in Transaction T as:\n",
    "<br></br>\n",
    "NU(X,T) = Σ<sub>i<sub>k</sub>∈X,P(i<sub>k</sub>)<0</sub>(P(i<sub>k</sub>) * q<sub>k</sub>)\n",
    "</center>\n",
    "\n"
   ]
  },
  {
   "cell_type": "code",
   "execution_count": 301,
   "metadata": {},
   "outputs": [],
   "source": [
    "def calculate_negative_utility_of_item_set_in_trans(items: set[Item], trans: Transaction):\n",
    "    nu = 0\n",
    "    if(items.issubset(trans.items_quantities.keys())):\n",
    "        for item in items:\n",
    "            utility = item.utility \n",
    "            if(utility < 0):\n",
    "                quantity = trans.items_quantities.get(item);\n",
    "                if(quantity != None):\n",
    "                    nu += item.utility * quantity\n",
    "    return nu;"
   ]
  },
  {
   "cell_type": "markdown",
   "metadata": {},
   "source": [
    "<center>\n",
    "Definition 4: The negative utility of X in Database D are:\n",
    "<br></br>\n",
    "NU(X) = Σ<sub>(X⊆T<sub>j</sub>,T<sub>j</sub>∈D)</sub>NU(*X,T<sub>j</sub>)\n",
    "</center>"
   ]
  },
  {
   "cell_type": "code",
   "execution_count": 302,
   "metadata": {},
   "outputs": [],
   "source": [
    "def calculate_negative_utility_of_item_set_in_database(items: set[Item], database: list[Transaction]):\n",
    "    nu = 0\n",
    "    for trans in database:\n",
    "        nu += calculate_negative_utility_of_item_set_in_trans(items, trans)\n",
    "    return nu"
   ]
  },
  {
   "cell_type": "code",
   "execution_count": 303,
   "metadata": {},
   "outputs": [],
   "source": [
    "def calculate_positive_utility_of_transaction(trans: Transaction):\n",
    "    pu = 0;\n",
    "    items : set[Item] = trans.items_quantities.keys()\n",
    "    for item in items:\n",
    "        if(item.utility > 0):\n",
    "            pu += trans.items_quantities.get(item) * item.utility\n",
    "    return pu;"
   ]
  },
  {
   "cell_type": "markdown",
   "metadata": {},
   "source": [
    "<center>\n",
    "Definition 6 (Transaction Weighted Utility TWU in N-database):\n",
    "<br></br>\n",
    "TWU(X) = Σ<sub>X⊆T<sub>j</sub>,T<sub>j</sub>∈D</sub>PU(T<sub>j</sub>)\n",
    "</center>"
   ]
  },
  {
   "cell_type": "code",
   "execution_count": 304,
   "metadata": {},
   "outputs": [],
   "source": [
    "def calculate_transaction_weight_utility(items: set[Item], database: list[Transaction]):\n",
    "    twu = 0\n",
    "    for trans in database:\n",
    "        trans_items = trans.items_quantities.keys()\n",
    "        if(items.issubset(trans_items)):\n",
    "            twu += calculate_positive_utility_of_transaction(trans)\n",
    "    return twu"
   ]
  },
  {
   "cell_type": "code",
   "execution_count": 305,
   "metadata": {},
   "outputs": [],
   "source": [
    "#a > b\n",
    "def check_order_of_two_items(a: Item, b: Item, database: list[Transaction]):\n",
    "    if(a == b):\n",
    "        return False\n",
    "    if(a.utility > 0 and b.utility < 0):\n",
    "        return True\n",
    "    if(a.utility * b.utility > 0):\n",
    "        return calculate_transaction_weight_utility({a}, database) > calculate_transaction_weight_utility({b}, database)\n",
    "    return False"
   ]
  },
  {
   "cell_type": "code",
   "execution_count": 306,
   "metadata": {},
   "outputs": [],
   "source": [
    "def check_order_item_and_set(ik: Item, X: set[Item]) -> bool:\n",
    "    for i in X:\n",
    "        if(ik.twu <= i.twu):\n",
    "            return False\n",
    "    return True"
   ]
  },
  {
   "cell_type": "markdown",
   "metadata": {},
   "source": [
    "<center>\n",
    "Definition 8: The remaining utility of 𝑋 in T<sub>j</sub>\n",
    "<br></br>\n",
    "RU(X) = Σ<sub>X⊆T<sub>j</sub>,T<sub>j</sub>∈D</sub>RU(X, T<sub>j</sub>)</center>"
   ]
  },
  {
   "cell_type": "code",
   "execution_count": 307,
   "metadata": {},
   "outputs": [],
   "source": [
    "def calculate_remaining_utility_of_item_set_in_trans(items: set[Item], trans: Transaction):\n",
    "    ru = 0\n",
    "    trans_items: set[Item] = trans.items_quantities.keys()\n",
    "    if items.issubset(trans_items):\n",
    "        for item in trans_items:\n",
    "            if(item.utility > 0):\n",
    "                if(check_order_item_and_set(item, items)):\n",
    "                    ru += item.utility * trans.items_quantities.get(item)\n",
    "    return ru"
   ]
  },
  {
   "cell_type": "code",
   "execution_count": 308,
   "metadata": {},
   "outputs": [],
   "source": [
    "def calculate_remaining_utility_of_item_set_in_database(items: set[Item], database: list[Transaction]):\n",
    "    ru = 0\n",
    "    for trans in database:\n",
    "        ru += calculate_remaining_utility_of_item_set_in_trans(items, trans)\n",
    "        # print(\"transID: \" + str(trans.id) + \", ru: \" + str(calculate_remaining_utility_of_item_set_in_transaction(items, trans, database)))\n",
    "    return ru"
   ]
  },
  {
   "cell_type": "code",
   "execution_count": 309,
   "metadata": {},
   "outputs": [],
   "source": [
    "def calculate_utility_of_item_set_in_database(\n",
    "    items: set[Item], database: list[Transaction]\n",
    "):\n",
    "    u = 0\n",
    "    for trans in database:\n",
    "        if(items.issubset(trans.items_quantities.keys())):\n",
    "            for item in items:\n",
    "                u += item.utility * trans.items_quantities.get(item)\n",
    "    return u"
   ]
  },
  {
   "cell_type": "code",
   "execution_count": 310,
   "metadata": {},
   "outputs": [],
   "source": [
    "from itertools import chain\n",
    "\n",
    "def gather_item_set_from_database(database: list[Transaction]) -> set[Item]:\n",
    "    return set(chain.from_iterable(trans.items_quantities.keys() for trans in database))"
   ]
  },
  {
   "cell_type": "code",
   "execution_count": 311,
   "metadata": {},
   "outputs": [],
   "source": [
    "def create_eucs_dict(arr: list[Item], database: list[Transaction]) -> dict[frozenset[Item], int]:\n",
    "    n = len(arr)\n",
    "    eucs_dict = {}\n",
    "    for i in range(n):\n",
    "        for j in range(n):\n",
    "            if i < j:\n",
    "                item_pair = frozenset({arr[i], arr[j]})\n",
    "                twu_value = calculate_transaction_weight_utility(item_pair, database)\n",
    "                eucs_dict[item_pair] = twu_value\n",
    "    return eucs_dict"
   ]
  },
  {
   "cell_type": "code",
   "execution_count": 312,
   "metadata": {},
   "outputs": [],
   "source": [
    "def find_tuple_by_trans_id(P: PNUList, target_trans_id: int) -> Utilities:\n",
    "    utilities_list: list[Utilities] = P.utility_values\n",
    "    for iTuple in utilities_list:\n",
    "        if iTuple.tid == target_trans_id:\n",
    "            return iTuple\n",
    "    return None"
   ]
  },
  {
   "cell_type": "code",
   "execution_count": 313,
   "metadata": {},
   "outputs": [],
   "source": [
    "def construct(P: PNUList, Px: PNUList, Py: PNUList):\n",
    "    print(\"start construct function\")\n",
    "    print(Px)\n",
    "    print(Py)\n",
    "    x = Px.items.difference(P.items)\n",
    "    y = Py.items.difference(P.items)\n",
    "    xy = x | y\n",
    "    utilities_list: list[Utilities] = list()\n",
    "    Pxy = PNUList(xy, utilities_list)\n",
    "    utilities_list_of_px: list[Utilities] = Px.utility_values\n",
    "    for xTuple in utilities_list_of_px:\n",
    "        yTuple: Utilities = find_tuple_by_trans_id(Py, xTuple.tid)\n",
    "        if yTuple is not None:\n",
    "            if P.utility_values:\n",
    "                pTuple: Utilities = find_tuple_by_trans_id(P, xTuple.tid)\n",
    "                xyTuple: Utilities = Utilities(\n",
    "                    xTuple.tid,\n",
    "                    xTuple.pu + yTuple.pu - pTuple.pu,\n",
    "                    xTuple.nu + yTuple.nu - pTuple.nu,\n",
    "                    yTuple.ru,\n",
    "                )\n",
    "                utilities_list.append(xyTuple)\n",
    "            else:\n",
    "                # print(yTuple.pu)\n",
    "                xyTuple: Utilities = Utilities(\n",
    "                    xTuple.tid,\n",
    "                    xTuple.pu + yTuple.pu,\n",
    "                    xTuple.nu + yTuple.nu,\n",
    "                    yTuple.ru,\n",
    "                )\n",
    "                utilities_list.append(xyTuple)\n",
    "    print(Pxy)\n",
    "    print(\"end construct function\")\n",
    "    return Pxy"
   ]
  },
  {
   "cell_type": "code",
   "execution_count": 314,
   "metadata": {},
   "outputs": [],
   "source": [
    "def searching_procedure(\n",
    "    P: PNUList,\n",
    "    PList: PNUList,\n",
    "    lists: list[PNUList],\n",
    "    minUtil,\n",
    "    minPer,\n",
    "    maxPer,\n",
    "    minAvg,\n",
    "    maxAvg,\n",
    "    database: list[Transaction],\n",
    "    eucs_dict: dict[frozenset[Item], int],\n",
    "    output: list[set[Item]],\n",
    "):\n",
    "    for i in range(0, len(lists) - 1):\n",
    "        XList: PNUList = lists[i]\n",
    "        utility = calculate_utility_of_item_set_in_database(set(XList.items), database)\n",
    "        remaining_utility = calculate_remaining_utility_of_item_set_in_database(\n",
    "            set(XList.items), database\n",
    "        )\n",
    "        min_per, max_per, avg_per = find_max_min_avg_periodic_of_item_set(\n",
    "            set(XList.items), database\n",
    "        )\n",
    "        if (\n",
    "            utility >= minUtil\n",
    "            and min_per >= minPer\n",
    "            and max_per <= maxPer\n",
    "            and avg_per >= minAvg\n",
    "            and avg_per <= maxAvg\n",
    "        ):\n",
    "            output.append(XList.items)\n",
    "        if remaining_utility + utility >= minUtil:\n",
    "            new_lists = []\n",
    "            new_period = []\n",
    "            for j in range(i + 1, len(lists)):\n",
    "                YList: PNUList = lists[j]\n",
    "                x = XList.items.difference(P)\n",
    "                y = YList.items.difference(P)\n",
    "                key = frozenset(x | y)\n",
    "                twu_value = eucs_dict.get(key)\n",
    "                if twu_value > minUtil:\n",
    "                    construct(PList, XList, YList)\n",
    "                    # print(\n",
    "                    #     str(x)\n",
    "                    #     + \",\"\n",
    "                    #     + str(y)\n",
    "                    #     + \" passes EUCS condition with twu = \"\n",
    "                    #     + str(twu_value)\n",
    "                    # )\n",
    "                    return;"
   ]
  },
  {
   "cell_type": "code",
   "execution_count": 315,
   "metadata": {},
   "outputs": [
    {
     "name": "stdout",
     "output_type": "stream",
     "text": [
      "PNU-List(items={C}, utility_values=[Utilities(tid=1, pu=0, nu=-3, ru=0), Utilities(tid=2, pu=0, nu=-3, ru=0), Utilities(tid=3, pu=0, nu=-3, ru=0), Utilities(tid=6, pu=0, nu=-6, ru=0), Utilities(tid=7, pu=0, nu=-18, ru=0)])\n",
      "start construct function\n",
      "PNU-List(items={A}, utility_values=[Utilities(tid=1, pu=15, nu=0, ru=36), Utilities(tid=2, pu=3, nu=0, ru=12), Utilities(tid=3, pu=3, nu=0, ru=0), Utilities(tid=4, pu=3, nu=0, ru=0), Utilities(tid=5, pu=3, nu=0, ru=0)])\n",
      "PNU-List(items={B}, utility_values=[Utilities(tid=1, pu=12, nu=0, ru=24), Utilities(tid=6, pu=18, nu=0, ru=36)])\n",
      "PNU-List(items={A, B}, utility_values=[Utilities(tid=1, pu=27, nu=0, ru=24)])\n",
      "end construct function\n"
     ]
    },
    {
     "data": {
      "text/plain": [
       "0"
      ]
     },
     "execution_count": 315,
     "metadata": {},
     "output_type": "execute_result"
    }
   ],
   "source": [
    "def preparation_procedure(\n",
    "    database: list[Transaction],\n",
    "    all_distinct_items: list[Item],\n",
    "    minUtility,\n",
    "    minPer,\n",
    "    maxPer,\n",
    "    minAvg,\n",
    "    maxAvg,\n",
    "):\n",
    "    removed_list: list[Item] = list()\n",
    "    # Check TWU & Periodic condition\n",
    "    for item in all_distinct_items:\n",
    "        item_max_per, item_min_per, item_avg_per = (\n",
    "            find_max_min_avg_periodic_of_item_set({item}, database)\n",
    "        )\n",
    "        twu = calculate_transaction_weight_utility({item}, database)\n",
    "        if (\n",
    "            twu < minUtility\n",
    "            or item_min_per < minPer\n",
    "            or item_max_per > maxPer\n",
    "            or item_avg_per < minAvg\n",
    "            or item_avg_per > maxAvg\n",
    "        ):\n",
    "            removed_list.append(item)\n",
    "        else:\n",
    "            item.twu = twu\n",
    "\n",
    "    # Remove unqualified item\n",
    "    all_distinct_items = [\n",
    "        item for item in all_distinct_items if item not in removed_list\n",
    "    ]\n",
    "    # Sort item list by TWU value\n",
    "    all_distinct_items.sort(key=lambda x: x.twu)\n",
    "\n",
    "    # Remove unqualified item from transaction\n",
    "    for trans in database:\n",
    "        for item in removed_list:\n",
    "            trans.items_quantities.pop(item, None)\n",
    "        if len(trans.items_quantities.keys()) == 0:\n",
    "            database.remove(trans)\n",
    "\n",
    "    # Create list[PNUList], prepare for algorithm 2\n",
    "    lists: list[PNUList] = list()\n",
    "    for item in all_distinct_items:\n",
    "        utility_values_list: list[tuple] = list()\n",
    "        pnu_list = PNUList({item}, utility_values_list)\n",
    "        for trans in database:\n",
    "            if {item}.issubset(trans.items_quantities.keys()):\n",
    "                pu = calculate_positive_utility_of_item_set_in_trans({item}, trans)\n",
    "                nu = calculate_negative_utility_of_item_set_in_trans({item}, trans)\n",
    "                ru = calculate_remaining_utility_of_item_set_in_trans({item}, trans)\n",
    "                utility_values: Utilities = Utilities(trans.id, pu, nu, ru)\n",
    "                utility_values_list.append(utility_values)\n",
    "        lists.append(pnu_list)\n",
    "\n",
    "    print(pnu_list)\n",
    "\n",
    "    # Create EUCS\n",
    "    eucs_dict: dict[frozenset[Item], int] = create_eucs_dict(\n",
    "        all_distinct_items, database\n",
    "    )\n",
    "\n",
    "    temp = PNUList({}, list())\n",
    "    # Call algorithm 2\n",
    "    searching_procedure(\n",
    "        [],\n",
    "        temp,\n",
    "        lists,\n",
    "        minUtility,\n",
    "        minPer,\n",
    "        maxPer,\n",
    "        minAvg,\n",
    "        maxAvg,\n",
    "        database,\n",
    "        eucs_dict,\n",
    "        [],\n",
    "    )\n",
    "    return 0\n",
    "preparation_procedure(database, items, 30, 1, 5, 1, 3)"
   ]
  },
  {
   "cell_type": "code",
   "execution_count": 306,
   "metadata": {},
   "outputs": [],
   "source": []
  }
 ],
 "metadata": {
  "kernelspec": {
   "display_name": "utilities",
   "language": "python",
   "name": "python3"
  },
  "language_info": {
   "codemirror_mode": {
    "name": "ipython",
    "version": 3
   },
   "file_extension": ".py",
   "mimetype": "text/x-python",
   "name": "python",
   "nbconvert_exporter": "python",
   "pygments_lexer": "ipython3",
   "version": "3.12.7"
  }
 },
 "nbformat": 4,
 "nbformat_minor": 2
}
