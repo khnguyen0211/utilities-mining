{
 "cells": [
  {
   "cell_type": "code",
   "execution_count": 655,
   "metadata": {},
   "outputs": [],
   "source": [
    "class Item:\n",
    "    def __init__(self, item: str, utility: int):\n",
    "        self.item = item\n",
    "        self.utility = utility\n",
    "\n",
    "    def __repr__(self):\n",
    "        # return f\"({self.item},{self.utility})\"\n",
    "        return f\"{self.item}\"\n",
    "    \n",
    "    \n",
    "    # Định nghĩa phương thức so sánh __eq__\n",
    "    def __eq__(self, other):\n",
    "        if isinstance(other, Item):\n",
    "            return self.item == other.item  # So sánh dựa trên giá trị 'item'\n",
    "        return False\n",
    "\n",
    "    # Định nghĩa phương thức băm __hash__ để có thể sử dụng trong set hoặc dict\n",
    "    def __hash__(self):\n",
    "        return hash(self.item)  # Băm dựa trên giá trị 'item'"
   ]
  },
  {
   "cell_type": "code",
   "execution_count": 656,
   "metadata": {},
   "outputs": [],
   "source": [
    "class Transaction:\n",
    "    def __init__(self, id: int, items_quantities: dict):\n",
    "        if any(q <= 0 for q in items_quantities.values()):\n",
    "            raise ValueError(f\"Quantities in trans{id} must be positive integers.\")\n",
    "        self.id = id\n",
    "        self.items_quantities = items_quantities\n",
    "\n",
    "    def __repr__(self):\n",
    "        return (f\"(tid = {self.id}, frequencies = {self.items_quantities})\")"
   ]
  },
  {
   "cell_type": "code",
   "execution_count": 657,
   "metadata": {},
   "outputs": [
    {
     "data": {
      "text/plain": [
       "[(tid = 1, frequencies = {A: 5, B: 3, C: 2, D: 4, E: 3}),\n",
       " (tid = 2, frequencies = {A: 6, B: 4, C: 3, D: 5}),\n",
       " (tid = 3, frequencies = {A: 4, D: 2, E: 1}),\n",
       " (tid = 4, frequencies = {A: 7, E: 6}),\n",
       " (tid = 5, frequencies = {A: 5, B: 4, D: 4, E: 3}),\n",
       " (tid = 6, frequencies = {B: 8, E: 7})]"
      ]
     },
     "execution_count": 657,
     "metadata": {},
     "output_type": "execute_result"
    }
   ],
   "source": [
    "a = Item('A', 1)\n",
    "b = Item('B', 2)\n",
    "c = Item('C', 5)\n",
    "d = Item('D', 2)\n",
    "e = Item('E', 3)\n",
    "\n",
    "\n",
    "items = [a, b, c, d, e]\n",
    "\n",
    "trans1 = Transaction(1, dict(zip([a, b, c, d, e], [5, 3, 2, 4, 3])))\n",
    "trans2 = Transaction(2, dict(zip([a, b, c, d], [6, 4, 3, 5])))\n",
    "trans3 = Transaction(3, dict(zip([a, d, e], [4, 2, 1])))\n",
    "trans4 = Transaction(4, dict(zip([a, e], [7, 6])))\n",
    "trans5 = Transaction(5, dict(zip([a, b, d, e], [5, 4, 4, 3])))\n",
    "trans6 = Transaction(6, dict(zip([b,e], [8, 7])))\n",
    "\n",
    "\n",
    "database = [trans1, trans2, trans3, trans4, trans5, trans6]\n",
    "\n",
    "database"
   ]
  },
  {
   "cell_type": "code",
   "execution_count": 658,
   "metadata": {},
   "outputs": [
    {
     "name": "stdout",
     "output_type": "stream",
     "text": [
      "None\n"
     ]
    }
   ],
   "source": [
    "trans1.items_quantities.keys()\n",
    "trans1.items_quantities.values()\n",
    "print(trans6.items_quantities.get(d))"
   ]
  },
  {
   "cell_type": "code",
   "execution_count": 659,
   "metadata": {},
   "outputs": [],
   "source": [
    "def calculate_positive_utility_of_item_set_in_trans(items: set[Item], trans: Transaction):\n",
    "    pu = 0\n",
    "    for item in items:\n",
    "        utility = item.utility \n",
    "        if(utility > 0):\n",
    "            quantity = trans.items_quantities.get(item);\n",
    "            if(quantity != None):\n",
    "                pu += item.utility * quantity\n",
    "    return pu;"
   ]
  },
  {
   "cell_type": "code",
   "execution_count": 660,
   "metadata": {},
   "outputs": [],
   "source": [
    "def calculate_positive_utility_of_item_set_in_database(items: set[Item], database: list[Transaction]):\n",
    "    pu = 0\n",
    "    for trans in database:\n",
    "        if items.issubset(trans.items_quantities.keys()):\n",
    "            pu += calculate_positive_utility_of_item_set_in_trans(items, trans)\n",
    "    return pu"
   ]
  },
  {
   "cell_type": "code",
   "execution_count": 661,
   "metadata": {},
   "outputs": [],
   "source": [
    "def calculate_negative_utility_of_item_set_in_trans(items: set[Item], trans: Transaction):\n",
    "    nu = 0\n",
    "    for item in items:\n",
    "        utility = item.utility \n",
    "        if(utility < 0):\n",
    "            quantity = trans.items_quantities.get(item);\n",
    "            if(quantity != None):\n",
    "                nu += item.utility * quantity\n",
    "    return nu;"
   ]
  },
  {
   "cell_type": "code",
   "execution_count": 662,
   "metadata": {},
   "outputs": [],
   "source": [
    "def calculate_negative_utility_of_item_set_in_database(items: set[Item], database: list[Transaction]):\n",
    "    nu = 0\n",
    "    for trans in database:\n",
    "        if items.issubset(trans.items_quantities.keys()):\n",
    "            nu += calculate_negative_utility_of_item_set_in_trans(items, trans)\n",
    "    return nu"
   ]
  },
  {
   "cell_type": "markdown",
   "metadata": {},
   "source": [
    "???? negative utility of transaction"
   ]
  },
  {
   "cell_type": "code",
   "execution_count": 663,
   "metadata": {},
   "outputs": [],
   "source": [
    "def calculate_negative_utility_of_transaction(trans: Transaction):\n",
    "    nu = 0;\n",
    "    items : set[Item] = trans.items_quantities.keys()\n",
    "    for item in items:\n",
    "        if(item.utility < 0):\n",
    "            nu += trans.items_quantities.get(item) * item.utility\n",
    "    return nu;"
   ]
  },
  {
   "cell_type": "markdown",
   "metadata": {},
   "source": [
    "???? positive utility of transaction"
   ]
  },
  {
   "cell_type": "code",
   "execution_count": 664,
   "metadata": {},
   "outputs": [],
   "source": [
    "def calculate_positive_utility_of_transaction(trans: Transaction):\n",
    "    pu = 0;\n",
    "    items : set[Item] = trans.items_quantities.keys()\n",
    "    for item in items:\n",
    "        if(item.utility > 0):\n",
    "            pu += trans.items_quantities.get(item) * item.utility\n",
    "    return pu;"
   ]
  },
  {
   "cell_type": "code",
   "execution_count": 665,
   "metadata": {},
   "outputs": [],
   "source": [
    "def calculate_positive_utility_of_database(database: list[Transaction]):\n",
    "    pu = 0;\n",
    "    for trans in database:\n",
    "        pu += calculate_positive_utility_of_transaction(trans)\n",
    "    return pu"
   ]
  },
  {
   "cell_type": "code",
   "execution_count": 666,
   "metadata": {},
   "outputs": [],
   "source": [
    "def calculate_negative_utility_of_database(database: list[Transaction]):\n",
    "    pu = 0;\n",
    "    for trans in database:\n",
    "        pu += calculate_negative_utility_of_transaction(trans)\n",
    "    return pu"
   ]
  },
  {
   "cell_type": "code",
   "execution_count": 673,
   "metadata": {},
   "outputs": [
    {
     "data": {
      "text/plain": [
       "0"
      ]
     },
     "execution_count": 673,
     "metadata": {},
     "output_type": "execute_result"
    }
   ],
   "source": [
    "calculate_positive_utility_of_database(database)"
   ]
  },
  {
   "cell_type": "code",
   "execution_count": 667,
   "metadata": {},
   "outputs": [],
   "source": [
    "def calculate_twu(item):\n",
    "    return;"
   ]
  },
  {
   "cell_type": "code",
   "execution_count": 668,
   "metadata": {},
   "outputs": [],
   "source": [
    "def calculate_max_per(item):\n",
    "    return;"
   ]
  },
  {
   "cell_type": "code",
   "execution_count": 669,
   "metadata": {},
   "outputs": [],
   "source": [
    "def calculate_avg_per(item):\n",
    "    return;"
   ]
  },
  {
   "cell_type": "code",
   "execution_count": 670,
   "metadata": {},
   "outputs": [],
   "source": [
    "def preparation_procedure(database, minUtility, minPer, maxPer, minAvg, maxAvg):\n",
    "    return;"
   ]
  },
  {
   "cell_type": "code",
   "execution_count": 671,
   "metadata": {},
   "outputs": [],
   "source": [
    "list1 = [a, b, c]\n",
    "list2 = [a, b, c, d]\n"
   ]
  }
 ],
 "metadata": {
  "kernelspec": {
   "display_name": "utilities",
   "language": "python",
   "name": "python3"
  },
  "language_info": {
   "codemirror_mode": {
    "name": "ipython",
    "version": 3
   },
   "file_extension": ".py",
   "mimetype": "text/x-python",
   "name": "python",
   "nbconvert_exporter": "python",
   "pygments_lexer": "ipython3",
   "version": "3.12.7"
  }
 },
 "nbformat": 4,
 "nbformat_minor": 2
}
