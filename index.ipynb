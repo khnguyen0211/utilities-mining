{
 "cells": [
  {
   "cell_type": "code",
   "execution_count": 44,
   "metadata": {},
   "outputs": [],
   "source": [
    "class Item:\n",
    "    def __init__(self, item: str, utility: int):\n",
    "        self.item = item\n",
    "        self.utility = utility\n",
    "\n",
    "    def __repr__(self):\n",
    "        # return f\"({self.item},{self.utility})\"\n",
    "        return f\"{self.item}\""
   ]
  },
  {
   "cell_type": "code",
   "execution_count": 45,
   "metadata": {},
   "outputs": [],
   "source": [
    "class Transaction:\n",
    "    def __init__(self, id: int, items_quantities: dict):\n",
    "        if any(q <= 0 for q in items_quantities.values()):\n",
    "            raise ValueError(f\"Quantities in trans{id} must be positive integers.\")\n",
    "        self.id = id\n",
    "        self.items_quantities = items_quantities\n",
    "\n",
    "    def __repr__(self):\n",
    "        return (f\"(tid = {self.id}, frequencies = {self.items_quantities})\")"
   ]
  },
  {
   "cell_type": "markdown",
   "metadata": {},
   "source": [
    "## Table 1  \n",
    "**Database**\n",
    "\n",
    "| Tid  | Item        | Quantity  |\n",
    "|------|-------------|-----------|\n",
    "| T₁   | a b c d     | 5 2 1 2   |\n",
    "| T₂   | a c d g     | 1 1 1 3   |\n",
    "| T₃   | a c f       | 1 1 1     |\n",
    "| T₄   | a f g       | 1 4 2     |\n",
    "| T₅   | a g         | 1 2       |\n",
    "| T₆   | b c d e     | 3 2 3 1   |\n",
    "| T₇   | c e         | 6 4       |\n",
    "| T₈   | e f         | 1 3       |\n",
    "\n",
    "---\n",
    "## Table 2  \n",
    "**Unit Utility**\n",
    "\n",
    "| Item   | a | b | c  | d  | e  | f  | g  |\n",
    "|--------|---|---|----|----|----|----|----|\n",
    "| Utility| 3 | 6 | -3 | 12 | -5 | -2 | -1 |\n"
   ]
  },
  {
   "cell_type": "code",
   "execution_count": 46,
   "metadata": {},
   "outputs": [
    {
     "data": {
      "text/plain": [
       "[(tid = 1, frequencies = {A: 5, B: 3, C: 2, D: 4, E: 3}),\n",
       " (tid = 2, frequencies = {A: 6, B: 4, C: 3, D: 5}),\n",
       " (tid = 3, frequencies = {A: 4, D: 2, E: 1}),\n",
       " (tid = 4, frequencies = {A: 7, E: 6}),\n",
       " (tid = 5, frequencies = {A: 5, B: 4, D: 4, E: 3}),\n",
       " (tid = 6, frequencies = {B: 8, E: 7})]"
      ]
     },
     "execution_count": 46,
     "metadata": {},
     "output_type": "execute_result"
    }
   ],
   "source": [
    "a = Item('A', 1)\n",
    "b = Item('B', 2)\n",
    "c = Item('C', 5)\n",
    "d = Item('D', 2)\n",
    "e = Item('E', 3)\n",
    "\n",
    "\n",
    "items = [a, b, c, d, e]\n",
    "\n",
    "trans1 = Transaction(1, dict(zip([a, b, c, d, e], [5, 3, 2, 4, 3])))\n",
    "trans2 = Transaction(2, dict(zip([a, b, c, d ], [6, 4, 3, 5])))\n",
    "trans3 = Transaction(3, dict(zip([a, d, e], [4, 2, 1])))\n",
    "trans4 = Transaction(4, dict(zip([a, e], [7, 6])))\n",
    "trans5 = Transaction(5, dict(zip([a, b, d, e], [5, 4, 4, 3])))\n",
    "trans6 = Transaction(6, dict(zip([b, e], [8, 7])))\n",
    "\n",
    "\n",
    "database = [trans1, trans2, trans3, trans4, trans5, trans6]\n",
    "\n",
    "database"
   ]
  },
  {
   "cell_type": "markdown",
   "metadata": {},
   "source": [
    "<center>\n",
    "Definition 4: The positive utility of X in Transaction T as:\n",
    "<br></br>\n",
    "PU(X,T) = Σ<sub>i<sub>k</sub>∈X,P(i<sub>k</sub>)>0</sub>(P(i<sub>k</sub>) * q<sub>k</sub>)\n",
    "</center>"
   ]
  },
  {
   "cell_type": "code",
   "execution_count": 47,
   "metadata": {},
   "outputs": [],
   "source": [
    "def calculate_positive_utility_of_item_set_in_trans(items: set[Item], trans: Transaction):\n",
    "    pu = 0\n",
    "    for item in items:\n",
    "        utility = item.utility \n",
    "        if(utility > 0):\n",
    "            quantity = trans.items_quantities.get(item);\n",
    "            if(quantity != None):\n",
    "                pu += item.utility * quantity\n",
    "    return pu;"
   ]
  },
  {
   "cell_type": "markdown",
   "metadata": {},
   "source": [
    "<center>\n",
    "Definition 4: The positive of X in Database D are:\n",
    "<br></br>\n",
    "PU(X) = Σ<sub>(X⊆T<sub>j</sub>,T<sub>j</sub>∈D)</sub>PU(X,T<sub>j</sub>)\n",
    "</center>"
   ]
  },
  {
   "cell_type": "code",
   "execution_count": 48,
   "metadata": {},
   "outputs": [],
   "source": [
    "def calculate_positive_utility_of_item_set_in_database(items: set[Item], database: list[Transaction]):\n",
    "    pu = 0\n",
    "    for trans in database:\n",
    "        if items.issubset(trans.items_quantities.keys()):\n",
    "            pu += calculate_positive_utility_of_item_set_in_trans(items, trans)\n",
    "    return pu"
   ]
  },
  {
   "cell_type": "markdown",
   "metadata": {},
   "source": [
    "<center> Definition 4: The negative utility of X in Transaction T as:\n",
    "<br></br>\n",
    "NU(X,T) = Σ<sub>i<sub>k</sub>∈X,P(i<sub>k</sub>)<0</sub>(P(i<sub>k</sub>) * q<sub>k</sub>)\n",
    "</center>\n",
    "\n"
   ]
  },
  {
   "cell_type": "code",
   "execution_count": 49,
   "metadata": {},
   "outputs": [],
   "source": [
    "def calculate_negative_utility_of_item_set_in_trans(items: set[Item], trans: Transaction):\n",
    "    nu = 0\n",
    "    for item in items:\n",
    "        utility = item.utility \n",
    "        if(utility < 0):\n",
    "            quantity = trans.items_quantities.get(item);\n",
    "            if(quantity != None):\n",
    "                nu += item.utility * quantity\n",
    "    return nu;"
   ]
  },
  {
   "cell_type": "markdown",
   "metadata": {},
   "source": [
    "<center>\n",
    "Definition 4: The negative utilities of X in Database D are:\n",
    "<br></br>\n",
    "NU(X) = Σ<sub>(X⊆T<sub>j</sub>,T<sub>j</sub>∈D)</sub>NU(*X,T<sub>j</sub>)\n",
    "</center>"
   ]
  },
  {
   "cell_type": "code",
   "execution_count": 50,
   "metadata": {},
   "outputs": [],
   "source": [
    "def calculate_negative_utility_of_item_set_in_database(items: set[Item], database: list[Transaction]):\n",
    "    nu = 0\n",
    "    for trans in database:\n",
    "        if items.issubset(trans.items_quantities.keys()):\n",
    "            nu += calculate_negative_utility_of_item_set_in_trans(items, trans)\n",
    "    return nu"
   ]
  },
  {
   "cell_type": "markdown",
   "metadata": {},
   "source": [
    "???? negative utility of transaction"
   ]
  },
  {
   "cell_type": "code",
   "execution_count": 51,
   "metadata": {},
   "outputs": [],
   "source": [
    "def calculate_negative_utility_of_transaction(trans: Transaction):\n",
    "    nu = 0;\n",
    "    items : set[Item] = trans.items_quantities.keys()\n",
    "    for item in items:\n",
    "        if(item.utility < 0):\n",
    "            nu += trans.items_quantities.get(item) * item.utility\n",
    "    return nu;"
   ]
  },
  {
   "cell_type": "markdown",
   "metadata": {},
   "source": [
    "???? positive utility of transaction"
   ]
  },
  {
   "cell_type": "code",
   "execution_count": 52,
   "metadata": {},
   "outputs": [],
   "source": [
    "def calculate_positive_utility_of_transaction(trans: Transaction):\n",
    "    pu = 0;\n",
    "    items : set[Item] = trans.items_quantities.keys()\n",
    "    for item in items:\n",
    "        if(item.utility > 0):\n",
    "            pu += trans.items_quantities.get(item) * item.utility\n",
    "    return pu;"
   ]
  },
  {
   "cell_type": "code",
   "execution_count": 53,
   "metadata": {},
   "outputs": [],
   "source": [
    "def calculate_positive_utility_of_database(database: list[Transaction]):\n",
    "    pu = 0;\n",
    "    for trans in database:\n",
    "        pu += calculate_positive_utility_of_transaction(trans)\n",
    "    return pu"
   ]
  },
  {
   "cell_type": "code",
   "execution_count": 54,
   "metadata": {},
   "outputs": [],
   "source": [
    "def calculate_negative_utility_of_database(database: list[Transaction]):\n",
    "    pu = 0;\n",
    "    for trans in database:\n",
    "        pu += calculate_negative_utility_of_transaction(trans)\n",
    "    return pu"
   ]
  },
  {
   "cell_type": "code",
   "execution_count": 55,
   "metadata": {},
   "outputs": [],
   "source": [
    "def calculate_utility_of_item_set(item_set: set[Item], database: list[Transaction]):\n",
    "    u = 0;\n",
    "    for trans in database:\n",
    "        if(item_set.issubset(trans.items_quantities.keys())):\n",
    "            for item in item_set:\n",
    "                u += item.utility * trans.items_quantities.get(item)\n",
    "    return u;"
   ]
  },
  {
   "cell_type": "markdown",
   "metadata": {},
   "source": [
    "<center>\n",
    "Definition 6 (Transaction Weighted Utility TWU in N-database):\n",
    "<br></br>\n",
    "TWU(X) = Σ<sub>X⊆T<sub>j</sub>,T<sub>j</sub>∈D</sub>PU(T<sub>j</sub>)\n",
    "</center>"
   ]
  },
  {
   "cell_type": "code",
   "execution_count": 56,
   "metadata": {},
   "outputs": [],
   "source": [
    "def calculate_transaction_weight_utility(items: set[Item], database: list[Transaction]):\n",
    "    twu = 0\n",
    "    for trans in database:\n",
    "        trans_items = trans.items_quantities.keys()\n",
    "        if(items.issubset(trans_items)):\n",
    "            twu += calculate_positive_utility_of_transaction(trans)\n",
    "    return twu"
   ]
  },
  {
   "cell_type": "code",
   "execution_count": 57,
   "metadata": {},
   "outputs": [],
   "source": [
    "#a > b\n",
    "def check_order_of_two_items(a: Item, b: Item, database: list[Transaction]):\n",
    "    if(a.utility > 0 and b.utility < 0):\n",
    "        return True\n",
    "    if(a.utility * b.utility > 0):\n",
    "        return calculate_transaction_weight_utility({a}, database) > calculate_transaction_weight_utility({b}, database)\n",
    "    return False"
   ]
  },
  {
   "cell_type": "code",
   "execution_count": 58,
   "metadata": {},
   "outputs": [],
   "source": [
    "def check_order_item_and_set(ik: Item, X: set[Item], database: list[Transaction]):\n",
    "    for i in X:\n",
    "        if(check_order_of_two_items(ik, i, database) == False):\n",
    "            return False\n",
    "    return True"
   ]
  },
  {
   "cell_type": "markdown",
   "metadata": {},
   "source": [
    "<center>\n",
    "Definition 8: The remaining utility of 𝑋 in T<sub>j</sub>\n",
    "<br></br>\n",
    "RU(X) = Σ<sub>X⊆T<sub>j</sub>,T<sub>j</sub>∈D</sub>RU(X, T<sub>j</sub>)</center>"
   ]
  },
  {
   "cell_type": "code",
   "execution_count": 76,
   "metadata": {},
   "outputs": [],
   "source": [
    "def calculate_remaining_utility_of_item_set_in_transaction(items: set[Item], trans: Transaction, database: list[Transaction]):\n",
    "    ru = 0\n",
    "    trans_items : set[Item] = set(trans.items_quantities.keys())\n",
    "    for item in trans_items:\n",
    "        if(item.utility > 0):\n",
    "            if(check_order_item_and_set(item, items, database)):\n",
    "                ru += item.utility * trans.items_quantities.get(item)\n",
    "    return ru"
   ]
  },
  {
   "cell_type": "code",
   "execution_count": 89,
   "metadata": {},
   "outputs": [],
   "source": [
    "def calculate_remaining_utility_of_item_set_in_database(items: set[Item], database: list[Transaction]):\n",
    "    ru = 0\n",
    "    for trans in database:\n",
    "        if(items.issubset(trans.items_quantities.keys())):\n",
    "            ru += calculate_remaining_utility_of_item_set_in_transaction(items, trans, database)\n",
    "            print(\"transID: \" + str(trans.id) + \", ru: \" + str(ru))\n",
    "    return ru"
   ]
  },
  {
   "cell_type": "code",
   "execution_count": 92,
   "metadata": {},
   "outputs": [
    {
     "name": "stdout",
     "output_type": "stream",
     "text": [
      "transID: 1, ru: 20\n",
      "transID: 2, ru: 34\n",
      "transID: 3, ru: 41\n",
      "transID: 5, ru: 63\n"
     ]
    }
   ],
   "source": [
    "item_set = {d}\n",
    "sss = calculate_remaining_utility_of_item_set_in_database(item_set, database)"
   ]
  },
  {
   "cell_type": "code",
   "execution_count": 68,
   "metadata": {},
   "outputs": [
    {
     "name": "stdout",
     "output_type": "stream",
     "text": [
      "Item: A, TWU: 143\n",
      "Item: B, TWU: 144\n",
      "Item: C, TWU: 77\n",
      "Item: D, TWU: 118\n",
      "Item: E, TWU: 141\n"
     ]
    }
   ],
   "source": [
    "for item in items:\n",
    "    name = item.item\n",
    "    twu = calculate_transaction_weight_utility({item}, database)\n",
    "    print(\"Item: \" + name +  \", TWU: \" + str(twu))"
   ]
  },
  {
   "cell_type": "code",
   "execution_count": 70,
   "metadata": {},
   "outputs": [
    {
     "name": "stdout",
     "output_type": "stream",
     "text": [
      "38\n",
      "39\n",
      "11\n",
      "25\n",
      "30\n",
      "37\n"
     ]
    }
   ],
   "source": [
    "for trans in database:\n",
    "    print(calculate_positive_utility_of_transaction(trans))"
   ]
  }
 ],
 "metadata": {
  "kernelspec": {
   "display_name": "utilities",
   "language": "python",
   "name": "python3"
  },
  "language_info": {
   "codemirror_mode": {
    "name": "ipython",
    "version": 3
   },
   "file_extension": ".py",
   "mimetype": "text/x-python",
   "name": "python",
   "nbconvert_exporter": "python",
   "pygments_lexer": "ipython3",
   "version": "3.12.7"
  }
 },
 "nbformat": 4,
 "nbformat_minor": 2
}
