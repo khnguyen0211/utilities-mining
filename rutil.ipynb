{
 "cells": [
  {
   "cell_type": "code",
   "execution_count": 63,
   "metadata": {},
   "outputs": [],
   "source": [
    "from collections import namedtuple\n",
    "\n",
    "Utilities = namedtuple('Utilities', ['tid', 'pu', 'nu', 'ru'])\n",
    "\n",
    "class Item:\n",
    "    def __init__(self, item: str, utility: int):\n",
    "        self.item = item\n",
    "        self.utility = utility\n",
    "        self._twu = 0\n",
    "\n",
    "    @property\n",
    "    def twu(self) -> int:\n",
    "        return self._twu\n",
    "    \n",
    "    @twu.setter\n",
    "    def twu(self, value: int) -> None:\n",
    "        if value < 0:\n",
    "            raise ValueError(\"TWU value cannot be negative!\")\n",
    "        self._twu = value\n",
    "\n",
    "    def __repr__(self):\n",
    "        return f\"({self.item},{self.twu})\"\n",
    "        # return f\"{self.item}\"\n",
    "\n",
    "class Transaction:\n",
    "    def __init__(self, id: int, items_quantities: dict):\n",
    "        if any(q <= 0 for q in items_quantities.values()):\n",
    "            raise ValueError(f\"Quantities in trans{id} must be positive integers.\")\n",
    "        self.id = id\n",
    "        self.items_quantities = items_quantities\n",
    "\n",
    "    def __repr__(self):\n",
    "        return f\"(tid = {self.id}, frequencies = {self.items_quantities})\"\n",
    "\n",
    "class PNUList:\n",
    "    def __init__(self, items: set[Item], utility_values: list[Utilities]):\n",
    "        self.items = items\n",
    "        self.utility_values = utility_values\n",
    "\n",
    "    def add_item(self, item):\n",
    "        self.items.add(item)\n",
    "\n",
    "    def __repr__(self):\n",
    "        return f\"PNU-List(items={self.items}, \" f\"utility_values={self.utility_values})\"\n",
    "\n",
    "\n",
    "def calculate_positive_utility_of_transaction(trans: Transaction):\n",
    "    pu = 0\n",
    "    items: set[Item] = trans.items_quantities.keys()\n",
    "    for item in items:\n",
    "        if item.utility > 0:\n",
    "            pu += trans.items_quantities.get(item) * item.utility\n",
    "    return pu\n",
    "\n",
    "\n",
    "def calculate_transaction_weight_utility(items: set[Item], database: list[Transaction]):\n",
    "    twu = 0\n",
    "    for trans in database:\n",
    "        trans_items = trans.items_quantities.keys()\n",
    "        if items.issubset(trans_items):\n",
    "            twu += calculate_positive_utility_of_transaction(trans)\n",
    "    return twu"
   ]
  },
  {
   "cell_type": "code",
   "execution_count": null,
   "metadata": {},
   "outputs": [
    {
     "name": "stdout",
     "output_type": "stream",
     "text": [
      "A, 45\n",
      "B, 56\n",
      "C, 76\n",
      "D, 48\n",
      "E, 73\n",
      "F, 25\n",
      "G, 28\n"
     ]
    }
   ],
   "source": [
    "a = Item(\"A\", -5)\n",
    "b = Item(\"B\", 2)\n",
    "c = Item(\"C\", 1)\n",
    "d = Item(\"D\", 2)\n",
    "e = Item(\"E\", 3)\n",
    "f = Item(\"F\", 1)\n",
    "g = Item(\"G\", 1)\n",
    "\n",
    "trans1 = Transaction(1, dict(zip([a, c, d], [1, 1, 1])))\n",
    "trans2 = Transaction(2, dict(zip([a, c, e, g], [2, 6, 2, 5])))\n",
    "trans3 = Transaction(3, dict(zip([a, b, c, d, e, f], [1, 2, 1, 6, 1, 5])))\n",
    "trans4 = Transaction(4, dict(zip([b, c, d, e], [4, 3, 3, 1])))\n",
    "trans5 = Transaction(5, dict(zip([b, c, e, g], [2, 2, 1, 2])))\n",
    "items = [a, b, c, d, e, f, g]\n",
    "database = [trans1, trans2, trans3, trans4, trans5]\n",
    "\n",
    "for i in items:\n",
    "    i.twu = calculate_transaction_weight_utility({i}, database)\n",
    "    print(i.item + \", \" + str(i.twu))"
   ]
  },
  {
   "cell_type": "code",
   "execution_count": 65,
   "metadata": {},
   "outputs": [],
   "source": [
    "# a < b\n",
    "def check_order_condition(a: Item, b: Item):\n",
    "    if a.utility < 0 and b.utility > 0:\n",
    "        return True\n",
    "    elif a.utility * b.utility > 0:\n",
    "        return a.twu > b.twu\n",
    "    return False\n",
    "\n",
    "def check_order_item_and_set(ik: Item, X: set[Item]) -> bool:\n",
    "    for i in X:\n",
    "        if i != ik:\n",
    "            if check_order_condition(ik, i) == False:\n",
    "                return False\n",
    "    return True"
   ]
  },
  {
   "cell_type": "code",
   "execution_count": 66,
   "metadata": {},
   "outputs": [],
   "source": [
    "def calculate_remaining_utility_of_item_set_in_trans(\n",
    "    items: set[Item], trans: Transaction\n",
    "):\n",
    "    ru = 0\n",
    "    trans_items: set[Item] = trans.items_quantities.keys()\n",
    "    if items.issubset(trans_items):\n",
    "        for item in trans_items:\n",
    "            if item.utility > 0:\n",
    "                if check_order_item_and_set(item, items) == True:\n",
    "                    if item not in items:\n",
    "                        print(item)\n",
    "                        ru += item.utility * trans.items_quantities.get(item)\n",
    "    return ru"
   ]
  },
  {
   "cell_type": "markdown",
   "metadata": {},
   "source": [
    "F > G > D > B > E > C > A"
   ]
  },
  {
   "cell_type": "code",
   "execution_count": 67,
   "metadata": {},
   "outputs": [
    {
     "name": "stdout",
     "output_type": "stream",
     "text": [
      "(tid = 4, frequencies = {(B,56): 4, (C,76): 3, (D,48): 3, (E,73): 1})\n",
      "(C,76)\n",
      "3\n"
     ]
    }
   ],
   "source": [
    "print(trans4)\n",
    "print(calculate_remaining_utility_of_item_set_in_trans({d, e}, trans4))"
   ]
  }
 ],
 "metadata": {
  "kernelspec": {
   "display_name": "utilities",
   "language": "python",
   "name": "python3"
  },
  "language_info": {
   "codemirror_mode": {
    "name": "ipython",
    "version": 3
   },
   "file_extension": ".py",
   "mimetype": "text/x-python",
   "name": "python",
   "nbconvert_exporter": "python",
   "pygments_lexer": "ipython3",
   "version": "3.12.7"
  }
 },
 "nbformat": 4,
 "nbformat_minor": 2
}
